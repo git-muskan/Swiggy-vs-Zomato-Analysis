{
 "cells": [
  {
   "cell_type": "markdown",
   "metadata": {},
   "source": [
    "# Swiggy vs Zomato Analysis\n",
    "\n",
    "This project analyzes and compares customer reviews of two major Indian food delivery apps — **Swiggy** and **Zomato** — using data scraped from the Google Play Store and Reddit. Reviews are scraped from Google Play Store and opinions, posts are scraped from Reddit in order to assess public sentiment and opinion.\n",
    "\n",
    "We aim to understand:\n",
    "- User satisfaction trends\n",
    "- Public opinion and sentiment scores\n",
    "- Review volume and sentiment patterns\n",
    "\n",
    "The analysis involves scraping ~25,000 reviews per app and processing the text data to extract meaningful insights\r\n"
   ]
  },
  {
   "cell_type": "markdown",
   "metadata": {},
   "source": [
    "## Importing and Scraping Data (Google Play Reviews)"
   ]
  },
  {
   "cell_type": "code",
   "execution_count": 1,
   "metadata": {
    "colab": {
     "base_uri": "https://localhost:8080/"
    },
    "id": "mhJTQ9o1z-vK",
    "outputId": "d45622c8-1dc9-4cb7-f85e-614f8b5c2b2a"
   },
   "outputs": [
    {
     "name": "stdout",
     "output_type": "stream",
     "text": [
      "Requirement already satisfied: google-play-scraper in c:\\users\\hp\\anaconda3\\lib\\site-packages (1.2.7)\n"
     ]
    }
   ],
   "source": [
    "!pip install google-play-scraper\n",
    "from google_play_scraper import app, Sort, reviews\n",
    "import pandas as pd"
   ]
  },
  {
   "cell_type": "code",
   "execution_count": 2,
   "metadata": {
    "colab": {
     "base_uri": "https://localhost:8080/"
    },
    "id": "mhJTQ9o1z-vK",
    "outputId": "d45622c8-1dc9-4cb7-f85e-614f8b5c2b2a"
   },
   "outputs": [],
   "source": [
    "apps = {\n",
    "    'Swiggy': 'in.swiggy.android',\n",
    "    'Zomato': 'com.application.zomato'\n",
    "}"
   ]
  },
  {
   "cell_type": "code",
   "execution_count": 3,
   "metadata": {
    "colab": {
     "base_uri": "https://localhost:8080/"
    },
    "id": "mhJTQ9o1z-vK",
    "outputId": "d45622c8-1dc9-4cb7-f85e-614f8b5c2b2a"
   },
   "outputs": [],
   "source": [
    "def get_reviews(app_id, app_name, count=25000):\n",
    "    result, _ = reviews(\n",
    "        app_id,\n",
    "        lang='en',\n",
    "        country='in',\n",
    "        sort=Sort.NEWEST,\n",
    "        count=count\n",
    "    )\n",
    "    df = pd.DataFrame(result)\n",
    "    df['app'] = app_name\n",
    "    return df"
   ]
  },
  {
   "cell_type": "code",
   "execution_count": 4,
   "metadata": {
    "colab": {
     "base_uri": "https://localhost:8080/"
    },
    "id": "mhJTQ9o1z-vK",
    "outputId": "d45622c8-1dc9-4cb7-f85e-614f8b5c2b2a"
   },
   "outputs": [],
   "source": [
    "df_swiggy = get_reviews(apps['Swiggy'], 'Swiggy')\n",
    "df_zomato = get_reviews(apps['Zomato'], 'Zomato')"
   ]
  },
  {
   "cell_type": "code",
   "execution_count": 5,
   "metadata": {
    "colab": {
     "base_uri": "https://localhost:8080/"
    },
    "id": "mhJTQ9o1z-vK",
    "outputId": "d45622c8-1dc9-4cb7-f85e-614f8b5c2b2a"
   },
   "outputs": [],
   "source": [
    "# Combine and export\n",
    "df_all_reviews = pd.concat([df_swiggy, df_zomato])\n",
    "df_all_reviews.to_csv(\"playstore_reviews.csv\", index=False)"
   ]
  },
  {
   "cell_type": "markdown",
   "metadata": {},
   "source": [
    "## Dataset Description\n",
    "This dataset contains user reviews scraped from the Google Play Store for two major Indian food delivery apps: **Swiggy** and **Zomato**.\n",
    "Each record corresponds to a single user review, including its content, rating, and app response (if any). There are **25,000 reviews per app scraped (50,000+ total)**. These are the key columns:\n",
    "\n",
    "`reviewId`: Unique identifier for each review \n",
    "\n",
    "`content` : The actual text content of the user review\n",
    "\n",
    "`score` : Star rating given (1 to 5)\n",
    "\n",
    "`thumbsUpCount`: Number of likes/upvotes on the review\n",
    "\n",
    "`at` : Timestamp when the review was posted\n",
    "\n",
    "`replyContent` : App's official reply to the review (if present)\n",
    "\n",
    "`app` : Name of the app: either \"Swiggy\" or \"Zomato\""
   ]
  },
  {
   "cell_type": "code",
   "execution_count": 6,
   "metadata": {
    "colab": {
     "base_uri": "https://localhost:8080/",
     "height": 536
    },
    "id": "PAmNZ7y3vIwc",
    "outputId": "2f036832-0c43-47f9-fb23-7706f6e9c494"
   },
   "outputs": [
    {
     "data": {
      "text/html": [
       "<div>\n",
       "<style scoped>\n",
       "    .dataframe tbody tr th:only-of-type {\n",
       "        vertical-align: middle;\n",
       "    }\n",
       "\n",
       "    .dataframe tbody tr th {\n",
       "        vertical-align: top;\n",
       "    }\n",
       "\n",
       "    .dataframe thead th {\n",
       "        text-align: right;\n",
       "    }\n",
       "</style>\n",
       "<table border=\"1\" class=\"dataframe\">\n",
       "  <thead>\n",
       "    <tr style=\"text-align: right;\">\n",
       "      <th></th>\n",
       "      <th>reviewId</th>\n",
       "      <th>userName</th>\n",
       "      <th>userImage</th>\n",
       "      <th>content</th>\n",
       "      <th>score</th>\n",
       "      <th>thumbsUpCount</th>\n",
       "      <th>reviewCreatedVersion</th>\n",
       "      <th>at</th>\n",
       "      <th>replyContent</th>\n",
       "      <th>repliedAt</th>\n",
       "      <th>appVersion</th>\n",
       "      <th>app</th>\n",
       "    </tr>\n",
       "  </thead>\n",
       "  <tbody>\n",
       "    <tr>\n",
       "      <th>0</th>\n",
       "      <td>9303b9e0-259f-4c4b-8e64-1bc534fffd36</td>\n",
       "      <td>A Google user</td>\n",
       "      <td>https://play-lh.googleusercontent.com/EGemoI2N...</td>\n",
       "      <td>I don't want</td>\n",
       "      <td>1</td>\n",
       "      <td>0</td>\n",
       "      <td>None</td>\n",
       "      <td>2025-08-06 08:21:59</td>\n",
       "      <td>Hi there, we are sorry for any hassle you have...</td>\n",
       "      <td>2025-08-06 08:22:38</td>\n",
       "      <td>None</td>\n",
       "      <td>Swiggy</td>\n",
       "    </tr>\n",
       "    <tr>\n",
       "      <th>1</th>\n",
       "      <td>13eabff3-c6e6-442b-accd-f54b64b85320</td>\n",
       "      <td>A Google user</td>\n",
       "      <td>https://play-lh.googleusercontent.com/EGemoI2N...</td>\n",
       "      <td>not delivering on the mentioned timeline.</td>\n",
       "      <td>1</td>\n",
       "      <td>0</td>\n",
       "      <td>4.85.2</td>\n",
       "      <td>2025-08-06 08:16:15</td>\n",
       "      <td>Hey there, we apologize for the inconvenience ...</td>\n",
       "      <td>2025-08-06 08:22:39</td>\n",
       "      <td>4.85.2</td>\n",
       "      <td>Swiggy</td>\n",
       "    </tr>\n",
       "    <tr>\n",
       "      <th>2</th>\n",
       "      <td>3f9671fc-ad73-4fb9-b3fe-b1124e643fb1</td>\n",
       "      <td>A Google user</td>\n",
       "      <td>https://play-lh.googleusercontent.com/EGemoI2N...</td>\n",
       "      <td>when i apply bhim upi as payment, the applicat...</td>\n",
       "      <td>1</td>\n",
       "      <td>0</td>\n",
       "      <td>4.84.2</td>\n",
       "      <td>2025-08-06 08:11:08</td>\n",
       "      <td>Hey there, we are sorry to have put you throug...</td>\n",
       "      <td>2025-08-06 08:12:23</td>\n",
       "      <td>4.84.2</td>\n",
       "      <td>Swiggy</td>\n",
       "    </tr>\n",
       "    <tr>\n",
       "      <th>3</th>\n",
       "      <td>16ff5de5-f9c4-410b-b8cc-8b659b39ab75</td>\n",
       "      <td>A Google user</td>\n",
       "      <td>https://play-lh.googleusercontent.com/EGemoI2N...</td>\n",
       "      <td>Service delivery is fast</td>\n",
       "      <td>5</td>\n",
       "      <td>0</td>\n",
       "      <td>4.85.2</td>\n",
       "      <td>2025-08-06 07:50:49</td>\n",
       "      <td>Hey, we are glad to have patrons like you and ...</td>\n",
       "      <td>2025-08-06 07:52:55</td>\n",
       "      <td>4.85.2</td>\n",
       "      <td>Swiggy</td>\n",
       "    </tr>\n",
       "    <tr>\n",
       "      <th>4</th>\n",
       "      <td>b65e664b-03b8-4448-9b2a-03dc7a219fb0</td>\n",
       "      <td>A Google user</td>\n",
       "      <td>https://play-lh.googleusercontent.com/EGemoI2N...</td>\n",
       "      <td>hate their customer support worst experience a...</td>\n",
       "      <td>1</td>\n",
       "      <td>0</td>\n",
       "      <td>4.85.2</td>\n",
       "      <td>2025-08-06 07:45:44</td>\n",
       "      <td>Greetings, we sincerely apologize for the trou...</td>\n",
       "      <td>2025-08-06 13:24:16</td>\n",
       "      <td>4.85.2</td>\n",
       "      <td>Swiggy</td>\n",
       "    </tr>\n",
       "  </tbody>\n",
       "</table>\n",
       "</div>"
      ],
      "text/plain": [
       "                               reviewId       userName  \\\n",
       "0  9303b9e0-259f-4c4b-8e64-1bc534fffd36  A Google user   \n",
       "1  13eabff3-c6e6-442b-accd-f54b64b85320  A Google user   \n",
       "2  3f9671fc-ad73-4fb9-b3fe-b1124e643fb1  A Google user   \n",
       "3  16ff5de5-f9c4-410b-b8cc-8b659b39ab75  A Google user   \n",
       "4  b65e664b-03b8-4448-9b2a-03dc7a219fb0  A Google user   \n",
       "\n",
       "                                           userImage  \\\n",
       "0  https://play-lh.googleusercontent.com/EGemoI2N...   \n",
       "1  https://play-lh.googleusercontent.com/EGemoI2N...   \n",
       "2  https://play-lh.googleusercontent.com/EGemoI2N...   \n",
       "3  https://play-lh.googleusercontent.com/EGemoI2N...   \n",
       "4  https://play-lh.googleusercontent.com/EGemoI2N...   \n",
       "\n",
       "                                             content  score  thumbsUpCount  \\\n",
       "0                                       I don't want      1              0   \n",
       "1          not delivering on the mentioned timeline.      1              0   \n",
       "2  when i apply bhim upi as payment, the applicat...      1              0   \n",
       "3                           Service delivery is fast      5              0   \n",
       "4  hate their customer support worst experience a...      1              0   \n",
       "\n",
       "  reviewCreatedVersion                  at  \\\n",
       "0                 None 2025-08-06 08:21:59   \n",
       "1               4.85.2 2025-08-06 08:16:15   \n",
       "2               4.84.2 2025-08-06 08:11:08   \n",
       "3               4.85.2 2025-08-06 07:50:49   \n",
       "4               4.85.2 2025-08-06 07:45:44   \n",
       "\n",
       "                                        replyContent           repliedAt  \\\n",
       "0  Hi there, we are sorry for any hassle you have... 2025-08-06 08:22:38   \n",
       "1  Hey there, we apologize for the inconvenience ... 2025-08-06 08:22:39   \n",
       "2  Hey there, we are sorry to have put you throug... 2025-08-06 08:12:23   \n",
       "3  Hey, we are glad to have patrons like you and ... 2025-08-06 07:52:55   \n",
       "4  Greetings, we sincerely apologize for the trou... 2025-08-06 13:24:16   \n",
       "\n",
       "  appVersion     app  \n",
       "0       None  Swiggy  \n",
       "1     4.85.2  Swiggy  \n",
       "2     4.84.2  Swiggy  \n",
       "3     4.85.2  Swiggy  \n",
       "4     4.85.2  Swiggy  "
      ]
     },
     "execution_count": 6,
     "metadata": {},
     "output_type": "execute_result"
    }
   ],
   "source": [
    "df_all_reviews.head()"
   ]
  },
  {
   "cell_type": "code",
   "execution_count": 7,
   "metadata": {},
   "outputs": [
    {
     "name": "stdout",
     "output_type": "stream",
     "text": [
      "<class 'pandas.core.frame.DataFrame'>\n",
      "Index: 50000 entries, 0 to 24999\n",
      "Data columns (total 12 columns):\n",
      " #   Column                Non-Null Count  Dtype         \n",
      "---  ------                --------------  -----         \n",
      " 0   reviewId              50000 non-null  object        \n",
      " 1   userName              50000 non-null  object        \n",
      " 2   userImage             50000 non-null  object        \n",
      " 3   content               50000 non-null  object        \n",
      " 4   score                 50000 non-null  int64         \n",
      " 5   thumbsUpCount         50000 non-null  int64         \n",
      " 6   reviewCreatedVersion  43046 non-null  object        \n",
      " 7   at                    50000 non-null  datetime64[ns]\n",
      " 8   replyContent          35527 non-null  object        \n",
      " 9   repliedAt             35527 non-null  datetime64[ns]\n",
      " 10  appVersion            43046 non-null  object        \n",
      " 11  app                   50000 non-null  object        \n",
      "dtypes: datetime64[ns](2), int64(2), object(8)\n",
      "memory usage: 5.0+ MB\n"
     ]
    }
   ],
   "source": [
    "df_all_reviews.info()"
   ]
  },
  {
   "cell_type": "code",
   "execution_count": 8,
   "metadata": {},
   "outputs": [
    {
     "data": {
      "text/plain": [
       "thumbsUpCount\n",
       "0     48744\n",
       "1       705\n",
       "2       139\n",
       "3        83\n",
       "4        59\n",
       "      ...  \n",
       "75        1\n",
       "74        1\n",
       "69        1\n",
       "40        1\n",
       "60        1\n",
       "Name: count, Length: 102, dtype: int64"
      ]
     },
     "execution_count": 8,
     "metadata": {},
     "output_type": "execute_result"
    }
   ],
   "source": [
    "df_all_reviews['thumbsUpCount'].value_counts()"
   ]
  },
  {
   "cell_type": "code",
   "execution_count": 9,
   "metadata": {},
   "outputs": [],
   "source": [
    "df_all_reviews.drop(columns=['reviewId', 'userName', 'userImage', 'thumbsUpCount', 'reviewCreatedVersion', 'replyContent','appVersion','repliedAt'],inplace=True)\n"
   ]
  },
  {
   "cell_type": "markdown",
   "metadata": {},
   "source": [
    "##### The data is cleaned and irrelevant data is removed to make the dataset fit for furthur sentiment analysis and creating effective visualizations to gather insights."
   ]
  },
  {
   "cell_type": "code",
   "execution_count": 10,
   "metadata": {},
   "outputs": [],
   "source": [
    "df_swiggy.drop(columns=['reviewId', 'userName', 'userImage', 'thumbsUpCount', 'reviewCreatedVersion', 'replyContent','appVersion','repliedAt'],inplace=True)\n",
    "df_zomato.drop(columns=['reviewId', 'userName', 'userImage', 'thumbsUpCount', 'reviewCreatedVersion', 'replyContent','appVersion','repliedAt'],inplace=True)"
   ]
  },
  {
   "cell_type": "code",
   "execution_count": 11,
   "metadata": {
    "colab": {
     "base_uri": "https://localhost:8080/",
     "height": 206
    },
    "id": "G0burYDk7x9F",
    "outputId": "f527a869-92cc-4d2f-e5c1-f1f86d0e3314"
   },
   "outputs": [
    {
     "data": {
      "text/html": [
       "<div>\n",
       "<style scoped>\n",
       "    .dataframe tbody tr th:only-of-type {\n",
       "        vertical-align: middle;\n",
       "    }\n",
       "\n",
       "    .dataframe tbody tr th {\n",
       "        vertical-align: top;\n",
       "    }\n",
       "\n",
       "    .dataframe thead th {\n",
       "        text-align: right;\n",
       "    }\n",
       "</style>\n",
       "<table border=\"1\" class=\"dataframe\">\n",
       "  <thead>\n",
       "    <tr style=\"text-align: right;\">\n",
       "      <th></th>\n",
       "      <th>content</th>\n",
       "      <th>score</th>\n",
       "      <th>at</th>\n",
       "      <th>app</th>\n",
       "      <th>year</th>\n",
       "    </tr>\n",
       "  </thead>\n",
       "  <tbody>\n",
       "    <tr>\n",
       "      <th>0</th>\n",
       "      <td>I don't want</td>\n",
       "      <td>1</td>\n",
       "      <td>2025-08-06 08:21:59</td>\n",
       "      <td>Swiggy</td>\n",
       "      <td>2025</td>\n",
       "    </tr>\n",
       "    <tr>\n",
       "      <th>1</th>\n",
       "      <td>not delivering on the mentioned timeline.</td>\n",
       "      <td>1</td>\n",
       "      <td>2025-08-06 08:16:15</td>\n",
       "      <td>Swiggy</td>\n",
       "      <td>2025</td>\n",
       "    </tr>\n",
       "    <tr>\n",
       "      <th>2</th>\n",
       "      <td>when i apply bhim upi as payment, the applicat...</td>\n",
       "      <td>1</td>\n",
       "      <td>2025-08-06 08:11:08</td>\n",
       "      <td>Swiggy</td>\n",
       "      <td>2025</td>\n",
       "    </tr>\n",
       "    <tr>\n",
       "      <th>3</th>\n",
       "      <td>Service delivery is fast</td>\n",
       "      <td>5</td>\n",
       "      <td>2025-08-06 07:50:49</td>\n",
       "      <td>Swiggy</td>\n",
       "      <td>2025</td>\n",
       "    </tr>\n",
       "    <tr>\n",
       "      <th>4</th>\n",
       "      <td>hate their customer support worst experience a...</td>\n",
       "      <td>1</td>\n",
       "      <td>2025-08-06 07:45:44</td>\n",
       "      <td>Swiggy</td>\n",
       "      <td>2025</td>\n",
       "    </tr>\n",
       "  </tbody>\n",
       "</table>\n",
       "</div>"
      ],
      "text/plain": [
       "                                             content  score  \\\n",
       "0                                       I don't want      1   \n",
       "1          not delivering on the mentioned timeline.      1   \n",
       "2  when i apply bhim upi as payment, the applicat...      1   \n",
       "3                           Service delivery is fast      5   \n",
       "4  hate their customer support worst experience a...      1   \n",
       "\n",
       "                   at     app  year  \n",
       "0 2025-08-06 08:21:59  Swiggy  2025  \n",
       "1 2025-08-06 08:16:15  Swiggy  2025  \n",
       "2 2025-08-06 08:11:08  Swiggy  2025  \n",
       "3 2025-08-06 07:50:49  Swiggy  2025  \n",
       "4 2025-08-06 07:45:44  Swiggy  2025  "
      ]
     },
     "execution_count": 11,
     "metadata": {},
     "output_type": "execute_result"
    }
   ],
   "source": [
    "df_all_reviews['at'] = pd.to_datetime(df_all_reviews['at'])\n",
    "df_all_reviews['year'] = df_all_reviews['at'].dt.year\n",
    "\n",
    "df_all_reviews.head()\n"
   ]
  },
  {
   "cell_type": "code",
   "execution_count": 12,
   "metadata": {
    "scrolled": true
   },
   "outputs": [
    {
     "data": {
      "text/html": [
       "<div>\n",
       "<style scoped>\n",
       "    .dataframe tbody tr th:only-of-type {\n",
       "        vertical-align: middle;\n",
       "    }\n",
       "\n",
       "    .dataframe tbody tr th {\n",
       "        vertical-align: top;\n",
       "    }\n",
       "\n",
       "    .dataframe thead th {\n",
       "        text-align: right;\n",
       "    }\n",
       "</style>\n",
       "<table border=\"1\" class=\"dataframe\">\n",
       "  <thead>\n",
       "    <tr style=\"text-align: right;\">\n",
       "      <th></th>\n",
       "      <th>content</th>\n",
       "      <th>score</th>\n",
       "      <th>at</th>\n",
       "      <th>app</th>\n",
       "      <th>year</th>\n",
       "      <th>month</th>\n",
       "    </tr>\n",
       "  </thead>\n",
       "  <tbody>\n",
       "    <tr>\n",
       "      <th>0</th>\n",
       "      <td>I don't want</td>\n",
       "      <td>1</td>\n",
       "      <td>2025-08-06 08:21:59</td>\n",
       "      <td>Swiggy</td>\n",
       "      <td>2025</td>\n",
       "      <td>8</td>\n",
       "    </tr>\n",
       "    <tr>\n",
       "      <th>1</th>\n",
       "      <td>not delivering on the mentioned timeline.</td>\n",
       "      <td>1</td>\n",
       "      <td>2025-08-06 08:16:15</td>\n",
       "      <td>Swiggy</td>\n",
       "      <td>2025</td>\n",
       "      <td>8</td>\n",
       "    </tr>\n",
       "    <tr>\n",
       "      <th>2</th>\n",
       "      <td>when i apply bhim upi as payment, the applicat...</td>\n",
       "      <td>1</td>\n",
       "      <td>2025-08-06 08:11:08</td>\n",
       "      <td>Swiggy</td>\n",
       "      <td>2025</td>\n",
       "      <td>8</td>\n",
       "    </tr>\n",
       "    <tr>\n",
       "      <th>3</th>\n",
       "      <td>Service delivery is fast</td>\n",
       "      <td>5</td>\n",
       "      <td>2025-08-06 07:50:49</td>\n",
       "      <td>Swiggy</td>\n",
       "      <td>2025</td>\n",
       "      <td>8</td>\n",
       "    </tr>\n",
       "    <tr>\n",
       "      <th>4</th>\n",
       "      <td>hate their customer support worst experience a...</td>\n",
       "      <td>1</td>\n",
       "      <td>2025-08-06 07:45:44</td>\n",
       "      <td>Swiggy</td>\n",
       "      <td>2025</td>\n",
       "      <td>8</td>\n",
       "    </tr>\n",
       "    <tr>\n",
       "      <th>...</th>\n",
       "      <td>...</td>\n",
       "      <td>...</td>\n",
       "      <td>...</td>\n",
       "      <td>...</td>\n",
       "      <td>...</td>\n",
       "      <td>...</td>\n",
       "    </tr>\n",
       "    <tr>\n",
       "      <th>24995</th>\n",
       "      <td>Is is one of best app for ordering food</td>\n",
       "      <td>5</td>\n",
       "      <td>2025-07-06 19:04:15</td>\n",
       "      <td>Zomato</td>\n",
       "      <td>2025</td>\n",
       "      <td>7</td>\n",
       "    </tr>\n",
       "    <tr>\n",
       "      <th>24996</th>\n",
       "      <td>nice</td>\n",
       "      <td>4</td>\n",
       "      <td>2025-07-06 19:04:13</td>\n",
       "      <td>Zomato</td>\n",
       "      <td>2025</td>\n",
       "      <td>7</td>\n",
       "    </tr>\n",
       "    <tr>\n",
       "      <th>24997</th>\n",
       "      <td>good</td>\n",
       "      <td>4</td>\n",
       "      <td>2025-07-06 19:04:12</td>\n",
       "      <td>Zomato</td>\n",
       "      <td>2025</td>\n",
       "      <td>7</td>\n",
       "    </tr>\n",
       "    <tr>\n",
       "      <th>24998</th>\n",
       "      <td>excellent</td>\n",
       "      <td>5</td>\n",
       "      <td>2025-07-06 19:02:44</td>\n",
       "      <td>Zomato</td>\n",
       "      <td>2025</td>\n",
       "      <td>7</td>\n",
       "    </tr>\n",
       "    <tr>\n",
       "      <th>24999</th>\n",
       "      <td>my favorite app for online food thanks to ceo</td>\n",
       "      <td>5</td>\n",
       "      <td>2025-07-06 19:02:38</td>\n",
       "      <td>Zomato</td>\n",
       "      <td>2025</td>\n",
       "      <td>7</td>\n",
       "    </tr>\n",
       "  </tbody>\n",
       "</table>\n",
       "<p>50000 rows × 6 columns</p>\n",
       "</div>"
      ],
      "text/plain": [
       "                                                 content  score  \\\n",
       "0                                           I don't want      1   \n",
       "1              not delivering on the mentioned timeline.      1   \n",
       "2      when i apply bhim upi as payment, the applicat...      1   \n",
       "3                               Service delivery is fast      5   \n",
       "4      hate their customer support worst experience a...      1   \n",
       "...                                                  ...    ...   \n",
       "24995            Is is one of best app for ordering food      5   \n",
       "24996                                               nice      4   \n",
       "24997                                               good      4   \n",
       "24998                                          excellent      5   \n",
       "24999      my favorite app for online food thanks to ceo      5   \n",
       "\n",
       "                       at     app  year  month  \n",
       "0     2025-08-06 08:21:59  Swiggy  2025      8  \n",
       "1     2025-08-06 08:16:15  Swiggy  2025      8  \n",
       "2     2025-08-06 08:11:08  Swiggy  2025      8  \n",
       "3     2025-08-06 07:50:49  Swiggy  2025      8  \n",
       "4     2025-08-06 07:45:44  Swiggy  2025      8  \n",
       "...                   ...     ...   ...    ...  \n",
       "24995 2025-07-06 19:04:15  Zomato  2025      7  \n",
       "24996 2025-07-06 19:04:13  Zomato  2025      7  \n",
       "24997 2025-07-06 19:04:12  Zomato  2025      7  \n",
       "24998 2025-07-06 19:02:44  Zomato  2025      7  \n",
       "24999 2025-07-06 19:02:38  Zomato  2025      7  \n",
       "\n",
       "[50000 rows x 6 columns]"
      ]
     },
     "execution_count": 12,
     "metadata": {},
     "output_type": "execute_result"
    }
   ],
   "source": [
    "df_all_reviews['month'] = df_all_reviews['at'].dt.month\n",
    "df_all_reviews"
   ]
  },
  {
   "cell_type": "code",
   "execution_count": 13,
   "metadata": {},
   "outputs": [],
   "source": [
    "import re\n",
    "import string"
   ]
  },
  {
   "cell_type": "markdown",
   "metadata": {},
   "source": [
    "##### Text pre-processing is done in order to make the data fit for sentiment analysis to gather meaningful insights."
   ]
  },
  {
   "cell_type": "code",
   "execution_count": 14,
   "metadata": {},
   "outputs": [],
   "source": [
    "df_all_reviews['content'] = df_all_reviews['content'].str.lower()"
   ]
  },
  {
   "cell_type": "code",
   "execution_count": 15,
   "metadata": {},
   "outputs": [],
   "source": [
    "df_all_reviews['content'] = df_all_reviews['content'].str.translate(str.maketrans('', '', string.punctuation))"
   ]
  },
  {
   "cell_type": "code",
   "execution_count": 16,
   "metadata": {},
   "outputs": [
    {
     "name": "stderr",
     "output_type": "stream",
     "text": [
      "[nltk_data] Downloading package stopwords to\n",
      "[nltk_data]     C:\\Users\\HP\\AppData\\Roaming\\nltk_data...\n",
      "[nltk_data]   Package stopwords is already up-to-date!\n"
     ]
    },
    {
     "data": {
      "text/plain": [
       "True"
      ]
     },
     "execution_count": 16,
     "metadata": {},
     "output_type": "execute_result"
    }
   ],
   "source": [
    "import nltk\n",
    "nltk.download('stopwords')"
   ]
  },
  {
   "cell_type": "code",
   "execution_count": 17,
   "metadata": {},
   "outputs": [],
   "source": [
    "from nltk.corpus import stopwords\n",
    "stop_words = set(stopwords.words('english'))\n",
    "\n",
    "df_all_reviews['content'] = df_all_reviews['content'].apply(lambda x: ' '.join([word for word in x.split() if word not in stop_words]))"
   ]
  },
  {
   "cell_type": "markdown",
   "metadata": {},
   "source": [
    "## Importing and Scraping Data (Reddit Opinion Posts)"
   ]
  },
  {
   "cell_type": "code",
   "execution_count": 18,
   "metadata": {
    "colab": {
     "base_uri": "https://localhost:8080/"
    },
    "id": "8qXPo7xNw3Po",
    "outputId": "689aa42c-fdfb-4a99-94df-37cebecd777d"
   },
   "outputs": [],
   "source": [
    "import praw"
   ]
  },
  {
   "cell_type": "code",
   "execution_count": 19,
   "metadata": {
    "colab": {
     "base_uri": "https://localhost:8080/"
    },
    "id": "8qXPo7xNw3Po",
    "outputId": "689aa42c-fdfb-4a99-94df-37cebecd777d"
   },
   "outputs": [],
   "source": [
    "reddit = praw.Reddit(\n",
    "    client_id=\"\",\n",
    "    client_secret=\"\",\n",
    "    user_agent=\"\",\n",
    "    username=\"\",\n",
    "    password=\"\"\n",
    ")"
   ]
  },
  {
   "cell_type": "code",
   "execution_count": 20,
   "metadata": {
    "colab": {
     "base_uri": "https://localhost:8080/"
    },
    "id": "8qXPo7xNw3Po",
    "outputId": "689aa42c-fdfb-4a99-94df-37cebecd777d"
   },
   "outputs": [],
   "source": [
    "#function to search and label posts\n",
    "def fetch_reddit_posts(query, app_label):\n",
    "    posts = []\n",
    "    for submission in reddit.subreddit('india+IndianStartups+delhi+swiggy+zomato+FoodIndia+bangalore+AskIndia').search(query, limit=5000):\n",
    "        title = submission.title\n",
    "        body = submission.selftext\n",
    "        text = (title + ' ' + body).lower()\n",
    "\n",
    "        if \"swiggy\" in text and \"zomato\" in text:\n",
    "            continue\n",
    "        if app_label.lower() not in text:\n",
    "            continue \n",
    "\n",
    "        posts.append([\n",
    "            title,\n",
    "            body,\n",
    "            submission.score,\n",
    "            submission.num_comments,\n",
    "            str(submission.created_utc),\n",
    "            submission.subreddit.display_name,\n",
    "            submission.url,\n",
    "            app_label\n",
    "        ])\n",
    "    \n",
    "    return posts"
   ]
  },
  {
   "cell_type": "code",
   "execution_count": 21,
   "metadata": {
    "colab": {
     "base_uri": "https://localhost:8080/"
    },
    "id": "8qXPo7xNw3Po",
    "outputId": "689aa42c-fdfb-4a99-94df-37cebecd777d"
   },
   "outputs": [],
   "source": [
    "swiggy_posts = fetch_reddit_posts(\"Swiggy\", \"Swiggy\")\n",
    "zomato_posts = fetch_reddit_posts(\"Zomato\", \"Zomato\")"
   ]
  },
  {
   "cell_type": "code",
   "execution_count": 24,
   "metadata": {},
   "outputs": [],
   "source": [
    "swiggy_posts = pd.DataFrame(swiggy_posts, columns=['title', 'body', 'upvotes', 'comments', 'timestamp', 'subreddit', 'url', 'app'])\n",
    "zomato_posts = pd.DataFrame(zomato_posts, columns=['title', 'body', 'upvotes', 'comments', 'timestamp', 'subreddit', 'url', 'app'])"
   ]
  },
  {
   "cell_type": "code",
   "execution_count": 32,
   "metadata": {
    "colab": {
     "base_uri": "https://localhost:8080/"
    },
    "id": "8qXPo7xNw3Po",
    "outputId": "689aa42c-fdfb-4a99-94df-37cebecd777d"
   },
   "outputs": [],
   "source": [
    "df_reddit = pd.concat([swiggy_posts, zomato_posts], ignore_index=True)\n",
    "df_reddit.to_csv(\"reddit_clean_swz.csv\", index=False)"
   ]
  },
  {
   "cell_type": "markdown",
   "metadata": {},
   "source": [
    "## Dataset Description\n",
    "\n",
    "This dataset contains user comments scraped from **Reddit** using the Python Reddit API Wrapper (**PRAW**). The comments were collected from selected subreddits relevant to the topic (e.g., food delivery, startups, india, etc.).\n",
    "\n",
    "Each record corresponds to a single Reddit comment, along with metadata related to the post and subreddit. These are the key columns:\n",
    "\n",
    "- `title`: Title of the reddit post  \n",
    "- `subreddit`: Name of the subreddit where the reddit post was uploaded  \n",
    "- `body`: Full text of the post content  \n",
    "- `upvotes`: Upvotes on the post  \n",
    "- `timestamp`: Timestamp when the reddit post was uploaded\n",
    "- `url`: Permanent URL to the post\n",
    "- `app`: App that is being referenced in the reddit post\n",
    "\n"
   ]
  },
  {
   "cell_type": "code",
   "execution_count": 34,
   "metadata": {},
   "outputs": [
    {
     "data": {
      "text/html": [
       "<div>\n",
       "<style scoped>\n",
       "    .dataframe tbody tr th:only-of-type {\n",
       "        vertical-align: middle;\n",
       "    }\n",
       "\n",
       "    .dataframe tbody tr th {\n",
       "        vertical-align: top;\n",
       "    }\n",
       "\n",
       "    .dataframe thead th {\n",
       "        text-align: right;\n",
       "    }\n",
       "</style>\n",
       "<table border=\"1\" class=\"dataframe\">\n",
       "  <thead>\n",
       "    <tr style=\"text-align: right;\">\n",
       "      <th></th>\n",
       "      <th>title</th>\n",
       "      <th>body</th>\n",
       "      <th>upvotes</th>\n",
       "      <th>comments</th>\n",
       "      <th>timestamp</th>\n",
       "      <th>subreddit</th>\n",
       "      <th>url</th>\n",
       "      <th>app</th>\n",
       "    </tr>\n",
       "  </thead>\n",
       "  <tbody>\n",
       "    <tr>\n",
       "      <th>0</th>\n",
       "      <td>Swiggy guy told the truth</td>\n",
       "      <td>Swiggy delivery partner shocked me today \\n\\nH...</td>\n",
       "      <td>1600</td>\n",
       "      <td>241</td>\n",
       "      <td>1746274805.0</td>\n",
       "      <td>swiggy</td>\n",
       "      <td>https://www.reddit.com/r/swiggy/comments/1kdrn...</td>\n",
       "      <td>Swiggy</td>\n",
       "    </tr>\n",
       "    <tr>\n",
       "      <th>1</th>\n",
       "      <td>Someone is definitely losing their job at Swiggy</td>\n",
       "      <td>People started unexpectedly receiving ₹4,000 t...</td>\n",
       "      <td>910</td>\n",
       "      <td>111</td>\n",
       "      <td>1739017308.0</td>\n",
       "      <td>india</td>\n",
       "      <td>https://www.reddit.com/gallery/1ikm3ni</td>\n",
       "      <td>Swiggy</td>\n",
       "    </tr>\n",
       "    <tr>\n",
       "      <th>2</th>\n",
       "      <td>WORST EXPERIENCE</td>\n",
       "      <td>I ordered food on Swiggy last night, and it wa...</td>\n",
       "      <td>170</td>\n",
       "      <td>57</td>\n",
       "      <td>1748146300.0</td>\n",
       "      <td>swiggy</td>\n",
       "      <td>https://www.reddit.com/gallery/1kuttae</td>\n",
       "      <td>Swiggy</td>\n",
       "    </tr>\n",
       "    <tr>\n",
       "      <th>3</th>\n",
       "      <td>Created an App QuickCompare to compare prices ...</td>\n",
       "      <td></td>\n",
       "      <td>4068</td>\n",
       "      <td>419</td>\n",
       "      <td>1739768136.0</td>\n",
       "      <td>india</td>\n",
       "      <td>https://quickcompare.app.link/qc</td>\n",
       "      <td>Swiggy</td>\n",
       "    </tr>\n",
       "    <tr>\n",
       "      <th>4</th>\n",
       "      <td>Created an App QuickCompare to compare prices ...</td>\n",
       "      <td></td>\n",
       "      <td>3028</td>\n",
       "      <td>423</td>\n",
       "      <td>1739735753.0</td>\n",
       "      <td>delhi</td>\n",
       "      <td>https://quickcompare.app.link/qc</td>\n",
       "      <td>Swiggy</td>\n",
       "    </tr>\n",
       "    <tr>\n",
       "      <th>5</th>\n",
       "      <td>With a heavy heart, I have uninstalled Swiggy</td>\n",
       "      <td>I had ordered a proper dinner after a long tim...</td>\n",
       "      <td>2507</td>\n",
       "      <td>289</td>\n",
       "      <td>1747243721.0</td>\n",
       "      <td>delhi</td>\n",
       "      <td>https://i.redd.it/gsqlso3n8s0f1.jpeg</td>\n",
       "      <td>Swiggy</td>\n",
       "    </tr>\n",
       "    <tr>\n",
       "      <th>6</th>\n",
       "      <td>Swiggy Instamart gave me 2 ridge gourds for fr...</td>\n",
       "      <td></td>\n",
       "      <td>4957</td>\n",
       "      <td>241</td>\n",
       "      <td>1736864688.0</td>\n",
       "      <td>india</td>\n",
       "      <td>https://www.reddit.com/gallery/1i1767j</td>\n",
       "      <td>Swiggy</td>\n",
       "    </tr>\n",
       "    <tr>\n",
       "      <th>7</th>\n",
       "      <td>Domino’s x Swiggy : Party Ruined</td>\n",
       "      <td>Ordered a large pizza from dominos via swiggy ...</td>\n",
       "      <td>2803</td>\n",
       "      <td>215</td>\n",
       "      <td>1747492471.0</td>\n",
       "      <td>swiggy</td>\n",
       "      <td>https://i.redd.it/bao166vasc1f1.png</td>\n",
       "      <td>Swiggy</td>\n",
       "    </tr>\n",
       "    <tr>\n",
       "      <th>8</th>\n",
       "      <td>Looks like Swiggy’s not selling eggs and meat ...</td>\n",
       "      <td>When did this start happening?</td>\n",
       "      <td>1462</td>\n",
       "      <td>358</td>\n",
       "      <td>1740558695.0</td>\n",
       "      <td>india</td>\n",
       "      <td>https://www.reddit.com/gallery/1iyiygo</td>\n",
       "      <td>Swiggy</td>\n",
       "    </tr>\n",
       "    <tr>\n",
       "      <th>9</th>\n",
       "      <td>If you order 1kg potato on Swiggy you can now ...</td>\n",
       "      <td></td>\n",
       "      <td>2369</td>\n",
       "      <td>102</td>\n",
       "      <td>1753337430.0</td>\n",
       "      <td>swiggy</td>\n",
       "      <td>https://i.redd.it/fky3vu5dkref1.jpeg</td>\n",
       "      <td>Swiggy</td>\n",
       "    </tr>\n",
       "  </tbody>\n",
       "</table>\n",
       "</div>"
      ],
      "text/plain": [
       "                                               title  \\\n",
       "0                          Swiggy guy told the truth   \n",
       "1   Someone is definitely losing their job at Swiggy   \n",
       "2                                   WORST EXPERIENCE   \n",
       "3  Created an App QuickCompare to compare prices ...   \n",
       "4  Created an App QuickCompare to compare prices ...   \n",
       "5      With a heavy heart, I have uninstalled Swiggy   \n",
       "6  Swiggy Instamart gave me 2 ridge gourds for fr...   \n",
       "7                   Domino’s x Swiggy : Party Ruined   \n",
       "8  Looks like Swiggy’s not selling eggs and meat ...   \n",
       "9  If you order 1kg potato on Swiggy you can now ...   \n",
       "\n",
       "                                                body  upvotes  comments  \\\n",
       "0  Swiggy delivery partner shocked me today \\n\\nH...     1600       241   \n",
       "1  People started unexpectedly receiving ₹4,000 t...      910       111   \n",
       "2  I ordered food on Swiggy last night, and it wa...      170        57   \n",
       "3                                                        4068       419   \n",
       "4                                                        3028       423   \n",
       "5  I had ordered a proper dinner after a long tim...     2507       289   \n",
       "6                                                        4957       241   \n",
       "7  Ordered a large pizza from dominos via swiggy ...     2803       215   \n",
       "8                     When did this start happening?     1462       358   \n",
       "9                                                        2369       102   \n",
       "\n",
       "      timestamp subreddit                                                url  \\\n",
       "0  1746274805.0    swiggy  https://www.reddit.com/r/swiggy/comments/1kdrn...   \n",
       "1  1739017308.0     india             https://www.reddit.com/gallery/1ikm3ni   \n",
       "2  1748146300.0    swiggy             https://www.reddit.com/gallery/1kuttae   \n",
       "3  1739768136.0     india                   https://quickcompare.app.link/qc   \n",
       "4  1739735753.0     delhi                   https://quickcompare.app.link/qc   \n",
       "5  1747243721.0     delhi               https://i.redd.it/gsqlso3n8s0f1.jpeg   \n",
       "6  1736864688.0     india             https://www.reddit.com/gallery/1i1767j   \n",
       "7  1747492471.0    swiggy                https://i.redd.it/bao166vasc1f1.png   \n",
       "8  1740558695.0     india             https://www.reddit.com/gallery/1iyiygo   \n",
       "9  1753337430.0    swiggy               https://i.redd.it/fky3vu5dkref1.jpeg   \n",
       "\n",
       "      app  \n",
       "0  Swiggy  \n",
       "1  Swiggy  \n",
       "2  Swiggy  \n",
       "3  Swiggy  \n",
       "4  Swiggy  \n",
       "5  Swiggy  \n",
       "6  Swiggy  \n",
       "7  Swiggy  \n",
       "8  Swiggy  \n",
       "9  Swiggy  "
      ]
     },
     "execution_count": 34,
     "metadata": {},
     "output_type": "execute_result"
    }
   ],
   "source": [
    "df_reddit.head(10)"
   ]
  },
  {
   "cell_type": "code",
   "execution_count": 36,
   "metadata": {
    "colab": {
     "base_uri": "https://localhost:8080/",
     "height": 206
    },
    "id": "6HYPX_Oe0t_z",
    "outputId": "ceba5ee7-04bb-42a6-9c00-a6d98f49deef",
    "scrolled": true
   },
   "outputs": [
    {
     "data": {
      "text/html": [
       "<div>\n",
       "<style scoped>\n",
       "    .dataframe tbody tr th:only-of-type {\n",
       "        vertical-align: middle;\n",
       "    }\n",
       "\n",
       "    .dataframe tbody tr th {\n",
       "        vertical-align: top;\n",
       "    }\n",
       "\n",
       "    .dataframe thead th {\n",
       "        text-align: right;\n",
       "    }\n",
       "</style>\n",
       "<table border=\"1\" class=\"dataframe\">\n",
       "  <thead>\n",
       "    <tr style=\"text-align: right;\">\n",
       "      <th></th>\n",
       "      <th>title</th>\n",
       "      <th>body</th>\n",
       "      <th>upvotes</th>\n",
       "      <th>comments</th>\n",
       "      <th>timestamp</th>\n",
       "      <th>subreddit</th>\n",
       "      <th>url</th>\n",
       "      <th>app</th>\n",
       "    </tr>\n",
       "  </thead>\n",
       "  <tbody>\n",
       "    <tr>\n",
       "      <th>361</th>\n",
       "      <td>The Delivery Boy</td>\n",
       "      <td>Today, in the scorching summer heat, my food d...</td>\n",
       "      <td>3804</td>\n",
       "      <td>65</td>\n",
       "      <td>1746233826.0</td>\n",
       "      <td>Zomato</td>\n",
       "      <td>https://i.redd.it/q3j71a6ntgye1.jpeg</td>\n",
       "      <td>Zomato</td>\n",
       "    </tr>\n",
       "    <tr>\n",
       "      <th>362</th>\n",
       "      <td>Did Zomato sell off their employees?</td>\n",
       "      <td>Payment made on 9:49 PM, the delivery guy pick...</td>\n",
       "      <td>23</td>\n",
       "      <td>13</td>\n",
       "      <td>1749896633.0</td>\n",
       "      <td>Zomato</td>\n",
       "      <td>https://www.reddit.com/gallery/1lb5gzg</td>\n",
       "      <td>Zomato</td>\n",
       "    </tr>\n",
       "    <tr>\n",
       "      <th>363</th>\n",
       "      <td>Zomato Delivery Guy asked for money</td>\n",
       "      <td>So I ordered something off Zomato and they guy...</td>\n",
       "      <td>156</td>\n",
       "      <td>74</td>\n",
       "      <td>1693128010.0</td>\n",
       "      <td>delhi</td>\n",
       "      <td>https://www.reddit.com/r/delhi/comments/162lmo...</td>\n",
       "      <td>Zomato</td>\n",
       "    </tr>\n",
       "    <tr>\n",
       "      <th>364</th>\n",
       "      <td>Zomato hits another controversy: Hindu, Muslim...</td>\n",
       "      <td></td>\n",
       "      <td>267</td>\n",
       "      <td>154</td>\n",
       "      <td>1565513743.0</td>\n",
       "      <td>india</td>\n",
       "      <td>https://www.indiatoday.in/india/story/zomato-h...</td>\n",
       "      <td>Zomato</td>\n",
       "    </tr>\n",
       "    <tr>\n",
       "      <th>365</th>\n",
       "      <td>🚨 Zomato is EXPLOITING employees — Exposing th...</td>\n",
       "      <td>Let me blow the lid off what’s really happenin...</td>\n",
       "      <td>91</td>\n",
       "      <td>16</td>\n",
       "      <td>1742928218.0</td>\n",
       "      <td>Zomato</td>\n",
       "      <td>https://www.reddit.com/r/Zomato/comments/1jjqu...</td>\n",
       "      <td>Zomato</td>\n",
       "    </tr>\n",
       "    <tr>\n",
       "      <th>366</th>\n",
       "      <td>Don't buy from Zomato</td>\n",
       "      <td>I was shown in the app that cancellation would...</td>\n",
       "      <td>4</td>\n",
       "      <td>7</td>\n",
       "      <td>1754248371.0</td>\n",
       "      <td>Zomato</td>\n",
       "      <td>https://i.redd.it/3a4myk62tugf1.png</td>\n",
       "      <td>Zomato</td>\n",
       "    </tr>\n",
       "    <tr>\n",
       "      <th>367</th>\n",
       "      <td>Thanks for nothing zomato</td>\n",
       "      <td>Wow so the resturant makes a mistake and doesn...</td>\n",
       "      <td>31</td>\n",
       "      <td>15</td>\n",
       "      <td>1747358282.0</td>\n",
       "      <td>Zomato</td>\n",
       "      <td>https://www.reddit.com/gallery/1knoq4s</td>\n",
       "      <td>Zomato</td>\n",
       "    </tr>\n",
       "    <tr>\n",
       "      <th>368</th>\n",
       "      <td>I need help against zomato scam</td>\n",
       "      <td>\\n\\nThis morning at 2:38 I placed an order fro...</td>\n",
       "      <td>2</td>\n",
       "      <td>10</td>\n",
       "      <td>1752375052.0</td>\n",
       "      <td>AskIndia</td>\n",
       "      <td>https://www.reddit.com/r/AskIndia/comments/1ly...</td>\n",
       "      <td>Zomato</td>\n",
       "    </tr>\n",
       "    <tr>\n",
       "      <th>369</th>\n",
       "      <td>What the fuck is this sorcery?</td>\n",
       "      <td>So basically ordered noodles and momos at ~10 ...</td>\n",
       "      <td>1494</td>\n",
       "      <td>102</td>\n",
       "      <td>1751565796.0</td>\n",
       "      <td>Zomato</td>\n",
       "      <td>https://www.reddit.com/gallery/1lqwep7</td>\n",
       "      <td>Zomato</td>\n",
       "    </tr>\n",
       "    <tr>\n",
       "      <th>370</th>\n",
       "      <td>Zomato scamming people, taking double prices f...</td>\n",
       "      <td>I bought gajar halwa from Nathus Sweets. The a...</td>\n",
       "      <td>0</td>\n",
       "      <td>35</td>\n",
       "      <td>1737992498.0</td>\n",
       "      <td>delhi</td>\n",
       "      <td>https://www.reddit.com/gallery/1ibc1fx</td>\n",
       "      <td>Zomato</td>\n",
       "    </tr>\n",
       "  </tbody>\n",
       "</table>\n",
       "</div>"
      ],
      "text/plain": [
       "                                                 title  \\\n",
       "361                                   The Delivery Boy   \n",
       "362               Did Zomato sell off their employees?   \n",
       "363                Zomato Delivery Guy asked for money   \n",
       "364  Zomato hits another controversy: Hindu, Muslim...   \n",
       "365  🚨 Zomato is EXPLOITING employees — Exposing th...   \n",
       "366                              Don't buy from Zomato   \n",
       "367                          Thanks for nothing zomato   \n",
       "368                    I need help against zomato scam   \n",
       "369                     What the fuck is this sorcery?   \n",
       "370  Zomato scamming people, taking double prices f...   \n",
       "\n",
       "                                                  body  upvotes  comments  \\\n",
       "361  Today, in the scorching summer heat, my food d...     3804        65   \n",
       "362  Payment made on 9:49 PM, the delivery guy pick...       23        13   \n",
       "363  So I ordered something off Zomato and they guy...      156        74   \n",
       "364                                                         267       154   \n",
       "365  Let me blow the lid off what’s really happenin...       91        16   \n",
       "366  I was shown in the app that cancellation would...        4         7   \n",
       "367  Wow so the resturant makes a mistake and doesn...       31        15   \n",
       "368  \\n\\nThis morning at 2:38 I placed an order fro...        2        10   \n",
       "369  So basically ordered noodles and momos at ~10 ...     1494       102   \n",
       "370  I bought gajar halwa from Nathus Sweets. The a...        0        35   \n",
       "\n",
       "        timestamp subreddit  \\\n",
       "361  1746233826.0    Zomato   \n",
       "362  1749896633.0    Zomato   \n",
       "363  1693128010.0     delhi   \n",
       "364  1565513743.0     india   \n",
       "365  1742928218.0    Zomato   \n",
       "366  1754248371.0    Zomato   \n",
       "367  1747358282.0    Zomato   \n",
       "368  1752375052.0  AskIndia   \n",
       "369  1751565796.0    Zomato   \n",
       "370  1737992498.0     delhi   \n",
       "\n",
       "                                                   url     app  \n",
       "361               https://i.redd.it/q3j71a6ntgye1.jpeg  Zomato  \n",
       "362             https://www.reddit.com/gallery/1lb5gzg  Zomato  \n",
       "363  https://www.reddit.com/r/delhi/comments/162lmo...  Zomato  \n",
       "364  https://www.indiatoday.in/india/story/zomato-h...  Zomato  \n",
       "365  https://www.reddit.com/r/Zomato/comments/1jjqu...  Zomato  \n",
       "366                https://i.redd.it/3a4myk62tugf1.png  Zomato  \n",
       "367             https://www.reddit.com/gallery/1knoq4s  Zomato  \n",
       "368  https://www.reddit.com/r/AskIndia/comments/1ly...  Zomato  \n",
       "369             https://www.reddit.com/gallery/1lqwep7  Zomato  \n",
       "370             https://www.reddit.com/gallery/1ibc1fx  Zomato  "
      ]
     },
     "execution_count": 36,
     "metadata": {},
     "output_type": "execute_result"
    }
   ],
   "source": [
    "df_reddit.tail(10)"
   ]
  },
  {
   "cell_type": "code",
   "execution_count": 38,
   "metadata": {},
   "outputs": [
    {
     "data": {
      "text/plain": [
       "app\n",
       "Swiggy    193\n",
       "Zomato    178\n",
       "Name: count, dtype: int64"
      ]
     },
     "execution_count": 38,
     "metadata": {},
     "output_type": "execute_result"
    }
   ],
   "source": [
    "df_reddit['app'].value_counts()"
   ]
  },
  {
   "cell_type": "code",
   "execution_count": 40,
   "metadata": {},
   "outputs": [
    {
     "name": "stdout",
     "output_type": "stream",
     "text": [
      "<class 'pandas.core.frame.DataFrame'>\n",
      "RangeIndex: 371 entries, 0 to 370\n",
      "Data columns (total 8 columns):\n",
      " #   Column     Non-Null Count  Dtype \n",
      "---  ------     --------------  ----- \n",
      " 0   title      371 non-null    object\n",
      " 1   body       371 non-null    object\n",
      " 2   upvotes    371 non-null    int64 \n",
      " 3   comments   371 non-null    int64 \n",
      " 4   timestamp  371 non-null    object\n",
      " 5   subreddit  371 non-null    object\n",
      " 6   url        371 non-null    object\n",
      " 7   app        371 non-null    object\n",
      "dtypes: int64(2), object(6)\n",
      "memory usage: 23.3+ KB\n"
     ]
    }
   ],
   "source": [
    "df_reddit.info()"
   ]
  },
  {
   "cell_type": "markdown",
   "metadata": {},
   "source": [
    "##### The data is cleaned and irrelevant data is removed to make the dataset fit for furthur sentiment analysis and creating effective visualizations to gather insights."
   ]
  },
  {
   "cell_type": "code",
   "execution_count": 42,
   "metadata": {
    "colab": {
     "base_uri": "https://localhost:8080/",
     "height": 423
    },
    "id": "L8mvVMK28w9-",
    "outputId": "cf82696d-2742-4a89-f00e-9791386486db"
   },
   "outputs": [
    {
     "data": {
      "text/html": [
       "<div>\n",
       "<style scoped>\n",
       "    .dataframe tbody tr th:only-of-type {\n",
       "        vertical-align: middle;\n",
       "    }\n",
       "\n",
       "    .dataframe tbody tr th {\n",
       "        vertical-align: top;\n",
       "    }\n",
       "\n",
       "    .dataframe thead th {\n",
       "        text-align: right;\n",
       "    }\n",
       "</style>\n",
       "<table border=\"1\" class=\"dataframe\">\n",
       "  <thead>\n",
       "    <tr style=\"text-align: right;\">\n",
       "      <th></th>\n",
       "      <th>title</th>\n",
       "      <th>body</th>\n",
       "      <th>timestamp</th>\n",
       "      <th>app</th>\n",
       "    </tr>\n",
       "  </thead>\n",
       "  <tbody>\n",
       "    <tr>\n",
       "      <th>0</th>\n",
       "      <td>Swiggy guy told the truth</td>\n",
       "      <td>Swiggy delivery partner shocked me today \\n\\nH...</td>\n",
       "      <td>1746274805.0</td>\n",
       "      <td>Swiggy</td>\n",
       "    </tr>\n",
       "    <tr>\n",
       "      <th>1</th>\n",
       "      <td>Someone is definitely losing their job at Swiggy</td>\n",
       "      <td>People started unexpectedly receiving ₹4,000 t...</td>\n",
       "      <td>1739017308.0</td>\n",
       "      <td>Swiggy</td>\n",
       "    </tr>\n",
       "    <tr>\n",
       "      <th>2</th>\n",
       "      <td>WORST EXPERIENCE</td>\n",
       "      <td>I ordered food on Swiggy last night, and it wa...</td>\n",
       "      <td>1748146300.0</td>\n",
       "      <td>Swiggy</td>\n",
       "    </tr>\n",
       "    <tr>\n",
       "      <th>3</th>\n",
       "      <td>Created an App QuickCompare to compare prices ...</td>\n",
       "      <td></td>\n",
       "      <td>1739768136.0</td>\n",
       "      <td>Swiggy</td>\n",
       "    </tr>\n",
       "    <tr>\n",
       "      <th>4</th>\n",
       "      <td>Created an App QuickCompare to compare prices ...</td>\n",
       "      <td></td>\n",
       "      <td>1739735753.0</td>\n",
       "      <td>Swiggy</td>\n",
       "    </tr>\n",
       "    <tr>\n",
       "      <th>...</th>\n",
       "      <td>...</td>\n",
       "      <td>...</td>\n",
       "      <td>...</td>\n",
       "      <td>...</td>\n",
       "    </tr>\n",
       "    <tr>\n",
       "      <th>366</th>\n",
       "      <td>Don't buy from Zomato</td>\n",
       "      <td>I was shown in the app that cancellation would...</td>\n",
       "      <td>1754248371.0</td>\n",
       "      <td>Zomato</td>\n",
       "    </tr>\n",
       "    <tr>\n",
       "      <th>367</th>\n",
       "      <td>Thanks for nothing zomato</td>\n",
       "      <td>Wow so the resturant makes a mistake and doesn...</td>\n",
       "      <td>1747358282.0</td>\n",
       "      <td>Zomato</td>\n",
       "    </tr>\n",
       "    <tr>\n",
       "      <th>368</th>\n",
       "      <td>I need help against zomato scam</td>\n",
       "      <td>\\n\\nThis morning at 2:38 I placed an order fro...</td>\n",
       "      <td>1752375052.0</td>\n",
       "      <td>Zomato</td>\n",
       "    </tr>\n",
       "    <tr>\n",
       "      <th>369</th>\n",
       "      <td>What the fuck is this sorcery?</td>\n",
       "      <td>So basically ordered noodles and momos at ~10 ...</td>\n",
       "      <td>1751565796.0</td>\n",
       "      <td>Zomato</td>\n",
       "    </tr>\n",
       "    <tr>\n",
       "      <th>370</th>\n",
       "      <td>Zomato scamming people, taking double prices f...</td>\n",
       "      <td>I bought gajar halwa from Nathus Sweets. The a...</td>\n",
       "      <td>1737992498.0</td>\n",
       "      <td>Zomato</td>\n",
       "    </tr>\n",
       "  </tbody>\n",
       "</table>\n",
       "<p>371 rows × 4 columns</p>\n",
       "</div>"
      ],
      "text/plain": [
       "                                                 title  \\\n",
       "0                            Swiggy guy told the truth   \n",
       "1     Someone is definitely losing their job at Swiggy   \n",
       "2                                     WORST EXPERIENCE   \n",
       "3    Created an App QuickCompare to compare prices ...   \n",
       "4    Created an App QuickCompare to compare prices ...   \n",
       "..                                                 ...   \n",
       "366                              Don't buy from Zomato   \n",
       "367                          Thanks for nothing zomato   \n",
       "368                    I need help against zomato scam   \n",
       "369                     What the fuck is this sorcery?   \n",
       "370  Zomato scamming people, taking double prices f...   \n",
       "\n",
       "                                                  body     timestamp     app  \n",
       "0    Swiggy delivery partner shocked me today \\n\\nH...  1746274805.0  Swiggy  \n",
       "1    People started unexpectedly receiving ₹4,000 t...  1739017308.0  Swiggy  \n",
       "2    I ordered food on Swiggy last night, and it wa...  1748146300.0  Swiggy  \n",
       "3                                                       1739768136.0  Swiggy  \n",
       "4                                                       1739735753.0  Swiggy  \n",
       "..                                                 ...           ...     ...  \n",
       "366  I was shown in the app that cancellation would...  1754248371.0  Zomato  \n",
       "367  Wow so the resturant makes a mistake and doesn...  1747358282.0  Zomato  \n",
       "368  \\n\\nThis morning at 2:38 I placed an order fro...  1752375052.0  Zomato  \n",
       "369  So basically ordered noodles and momos at ~10 ...  1751565796.0  Zomato  \n",
       "370  I bought gajar halwa from Nathus Sweets. The a...  1737992498.0  Zomato  \n",
       "\n",
       "[371 rows x 4 columns]"
      ]
     },
     "execution_count": 42,
     "metadata": {},
     "output_type": "execute_result"
    }
   ],
   "source": [
    "df_reddit.drop(columns=['upvotes','comments','subreddit','url'], inplace=True)\n",
    "df_reddit"
   ]
  },
  {
   "cell_type": "code",
   "execution_count": 44,
   "metadata": {},
   "outputs": [],
   "source": [
    "swiggy_posts.drop(columns=['upvotes','comments','subreddit','url'], inplace=True)\n",
    "zomato_posts.drop(columns=['upvotes','comments','subreddit','url'], inplace=True)"
   ]
  },
  {
   "cell_type": "code",
   "execution_count": 46,
   "metadata": {},
   "outputs": [],
   "source": [
    "df_reddit['text'] = df_reddit['title'].fillna('') + ' ' + df_reddit['body'].fillna('')"
   ]
  },
  {
   "cell_type": "code",
   "execution_count": 48,
   "metadata": {},
   "outputs": [
    {
     "name": "stderr",
     "output_type": "stream",
     "text": [
      "C:\\Users\\HP\\AppData\\Local\\Temp\\ipykernel_6300\\1634924247.py:1: FutureWarning: The behavior of 'to_datetime' with 'unit' when parsing strings is deprecated. In a future version, strings will be parsed as datetime strings, matching the behavior without a 'unit'. To retain the old behavior, explicitly cast ints or floats to numeric type before calling to_datetime.\n",
      "  df_reddit['timestamp'] = pd.to_datetime(df_reddit['timestamp'], unit='s', errors='coerce')\n"
     ]
    }
   ],
   "source": [
    "df_reddit['timestamp'] = pd.to_datetime(df_reddit['timestamp'], unit='s', errors='coerce')"
   ]
  },
  {
   "cell_type": "code",
   "execution_count": 50,
   "metadata": {},
   "outputs": [
    {
     "name": "stderr",
     "output_type": "stream",
     "text": [
      "C:\\Users\\HP\\AppData\\Local\\Temp\\ipykernel_6300\\3442724973.py:1: FutureWarning: The behavior of 'to_datetime' with 'unit' when parsing strings is deprecated. In a future version, strings will be parsed as datetime strings, matching the behavior without a 'unit'. To retain the old behavior, explicitly cast ints or floats to numeric type before calling to_datetime.\n",
      "  swiggy_posts['timestamp'] = pd.to_datetime(swiggy_posts['timestamp'], unit='s', errors='coerce')\n",
      "C:\\Users\\HP\\AppData\\Local\\Temp\\ipykernel_6300\\3442724973.py:2: FutureWarning: The behavior of 'to_datetime' with 'unit' when parsing strings is deprecated. In a future version, strings will be parsed as datetime strings, matching the behavior without a 'unit'. To retain the old behavior, explicitly cast ints or floats to numeric type before calling to_datetime.\n",
      "  zomato_posts['timestamp'] = pd.to_datetime(zomato_posts['timestamp'], unit='s', errors='coerce')\n"
     ]
    }
   ],
   "source": [
    "swiggy_posts['timestamp'] = pd.to_datetime(swiggy_posts['timestamp'], unit='s', errors='coerce')\n",
    "zomato_posts['timestamp'] = pd.to_datetime(zomato_posts['timestamp'], unit='s', errors='coerce')"
   ]
  },
  {
   "cell_type": "code",
   "execution_count": 52,
   "metadata": {},
   "outputs": [
    {
     "data": {
      "text/html": [
       "<div>\n",
       "<style scoped>\n",
       "    .dataframe tbody tr th:only-of-type {\n",
       "        vertical-align: middle;\n",
       "    }\n",
       "\n",
       "    .dataframe tbody tr th {\n",
       "        vertical-align: top;\n",
       "    }\n",
       "\n",
       "    .dataframe thead th {\n",
       "        text-align: right;\n",
       "    }\n",
       "</style>\n",
       "<table border=\"1\" class=\"dataframe\">\n",
       "  <thead>\n",
       "    <tr style=\"text-align: right;\">\n",
       "      <th></th>\n",
       "      <th>title</th>\n",
       "      <th>body</th>\n",
       "      <th>timestamp</th>\n",
       "      <th>app</th>\n",
       "      <th>text</th>\n",
       "    </tr>\n",
       "  </thead>\n",
       "  <tbody>\n",
       "    <tr>\n",
       "      <th>0</th>\n",
       "      <td>Swiggy guy told the truth</td>\n",
       "      <td>Swiggy delivery partner shocked me today \\n\\nH...</td>\n",
       "      <td>2025-05-03 12:20:05</td>\n",
       "      <td>Swiggy</td>\n",
       "      <td>Swiggy guy told the truth Swiggy delivery part...</td>\n",
       "    </tr>\n",
       "    <tr>\n",
       "      <th>1</th>\n",
       "      <td>Someone is definitely losing their job at Swiggy</td>\n",
       "      <td>People started unexpectedly receiving ₹4,000 t...</td>\n",
       "      <td>2025-02-08 12:21:48</td>\n",
       "      <td>Swiggy</td>\n",
       "      <td>Someone is definitely losing their job at Swig...</td>\n",
       "    </tr>\n",
       "    <tr>\n",
       "      <th>2</th>\n",
       "      <td>WORST EXPERIENCE</td>\n",
       "      <td>I ordered food on Swiggy last night, and it wa...</td>\n",
       "      <td>2025-05-25 04:11:40</td>\n",
       "      <td>Swiggy</td>\n",
       "      <td>WORST EXPERIENCE I ordered food on Swiggy last...</td>\n",
       "    </tr>\n",
       "    <tr>\n",
       "      <th>3</th>\n",
       "      <td>Created an App QuickCompare to compare prices ...</td>\n",
       "      <td></td>\n",
       "      <td>2025-02-17 04:55:36</td>\n",
       "      <td>Swiggy</td>\n",
       "      <td>Created an App QuickCompare to compare prices ...</td>\n",
       "    </tr>\n",
       "    <tr>\n",
       "      <th>4</th>\n",
       "      <td>Created an App QuickCompare to compare prices ...</td>\n",
       "      <td></td>\n",
       "      <td>2025-02-16 19:55:53</td>\n",
       "      <td>Swiggy</td>\n",
       "      <td>Created an App QuickCompare to compare prices ...</td>\n",
       "    </tr>\n",
       "    <tr>\n",
       "      <th>...</th>\n",
       "      <td>...</td>\n",
       "      <td>...</td>\n",
       "      <td>...</td>\n",
       "      <td>...</td>\n",
       "      <td>...</td>\n",
       "    </tr>\n",
       "    <tr>\n",
       "      <th>366</th>\n",
       "      <td>Don't buy from Zomato</td>\n",
       "      <td>I was shown in the app that cancellation would...</td>\n",
       "      <td>2025-08-03 19:12:51</td>\n",
       "      <td>Zomato</td>\n",
       "      <td>Don't buy from Zomato I was shown in the app t...</td>\n",
       "    </tr>\n",
       "    <tr>\n",
       "      <th>367</th>\n",
       "      <td>Thanks for nothing zomato</td>\n",
       "      <td>Wow so the resturant makes a mistake and doesn...</td>\n",
       "      <td>2025-05-16 01:18:02</td>\n",
       "      <td>Zomato</td>\n",
       "      <td>Thanks for nothing zomato Wow so the resturant...</td>\n",
       "    </tr>\n",
       "    <tr>\n",
       "      <th>368</th>\n",
       "      <td>I need help against zomato scam</td>\n",
       "      <td>\\n\\nThis morning at 2:38 I placed an order fro...</td>\n",
       "      <td>2025-07-13 02:50:52</td>\n",
       "      <td>Zomato</td>\n",
       "      <td>I need help against zomato scam \\n\\nThis morni...</td>\n",
       "    </tr>\n",
       "    <tr>\n",
       "      <th>369</th>\n",
       "      <td>What the fuck is this sorcery?</td>\n",
       "      <td>So basically ordered noodles and momos at ~10 ...</td>\n",
       "      <td>2025-07-03 18:03:16</td>\n",
       "      <td>Zomato</td>\n",
       "      <td>What the fuck is this sorcery? So basically or...</td>\n",
       "    </tr>\n",
       "    <tr>\n",
       "      <th>370</th>\n",
       "      <td>Zomato scamming people, taking double prices f...</td>\n",
       "      <td>I bought gajar halwa from Nathus Sweets. The a...</td>\n",
       "      <td>2025-01-27 15:41:38</td>\n",
       "      <td>Zomato</td>\n",
       "      <td>Zomato scamming people, taking double prices f...</td>\n",
       "    </tr>\n",
       "  </tbody>\n",
       "</table>\n",
       "<p>371 rows × 5 columns</p>\n",
       "</div>"
      ],
      "text/plain": [
       "                                                 title  \\\n",
       "0                            Swiggy guy told the truth   \n",
       "1     Someone is definitely losing their job at Swiggy   \n",
       "2                                     WORST EXPERIENCE   \n",
       "3    Created an App QuickCompare to compare prices ...   \n",
       "4    Created an App QuickCompare to compare prices ...   \n",
       "..                                                 ...   \n",
       "366                              Don't buy from Zomato   \n",
       "367                          Thanks for nothing zomato   \n",
       "368                    I need help against zomato scam   \n",
       "369                     What the fuck is this sorcery?   \n",
       "370  Zomato scamming people, taking double prices f...   \n",
       "\n",
       "                                                  body           timestamp  \\\n",
       "0    Swiggy delivery partner shocked me today \\n\\nH... 2025-05-03 12:20:05   \n",
       "1    People started unexpectedly receiving ₹4,000 t... 2025-02-08 12:21:48   \n",
       "2    I ordered food on Swiggy last night, and it wa... 2025-05-25 04:11:40   \n",
       "3                                                      2025-02-17 04:55:36   \n",
       "4                                                      2025-02-16 19:55:53   \n",
       "..                                                 ...                 ...   \n",
       "366  I was shown in the app that cancellation would... 2025-08-03 19:12:51   \n",
       "367  Wow so the resturant makes a mistake and doesn... 2025-05-16 01:18:02   \n",
       "368  \\n\\nThis morning at 2:38 I placed an order fro... 2025-07-13 02:50:52   \n",
       "369  So basically ordered noodles and momos at ~10 ... 2025-07-03 18:03:16   \n",
       "370  I bought gajar halwa from Nathus Sweets. The a... 2025-01-27 15:41:38   \n",
       "\n",
       "        app                                               text  \n",
       "0    Swiggy  Swiggy guy told the truth Swiggy delivery part...  \n",
       "1    Swiggy  Someone is definitely losing their job at Swig...  \n",
       "2    Swiggy  WORST EXPERIENCE I ordered food on Swiggy last...  \n",
       "3    Swiggy  Created an App QuickCompare to compare prices ...  \n",
       "4    Swiggy  Created an App QuickCompare to compare prices ...  \n",
       "..      ...                                                ...  \n",
       "366  Zomato  Don't buy from Zomato I was shown in the app t...  \n",
       "367  Zomato  Thanks for nothing zomato Wow so the resturant...  \n",
       "368  Zomato  I need help against zomato scam \\n\\nThis morni...  \n",
       "369  Zomato  What the fuck is this sorcery? So basically or...  \n",
       "370  Zomato  Zomato scamming people, taking double prices f...  \n",
       "\n",
       "[371 rows x 5 columns]"
      ]
     },
     "execution_count": 52,
     "metadata": {},
     "output_type": "execute_result"
    }
   ],
   "source": [
    "df_reddit"
   ]
  },
  {
   "cell_type": "code",
   "execution_count": 54,
   "metadata": {
    "colab": {
     "base_uri": "https://localhost:8080/",
     "height": 597
    },
    "id": "RxqU0Qfe-gg2",
    "outputId": "5a10581c-1d8a-4766-db8e-56f7923e2746"
   },
   "outputs": [],
   "source": [
    "df_reddit['text'] = df_reddit['text'].str.lower()\n",
    "df_reddit['text'] = df_reddit['text'].str.translate(str.maketrans('', '', string.punctuation))"
   ]
  },
  {
   "cell_type": "code",
   "execution_count": 56,
   "metadata": {},
   "outputs": [
    {
     "name": "stderr",
     "output_type": "stream",
     "text": [
      "[nltk_data] Downloading package wordnet to\n",
      "[nltk_data]     C:\\Users\\HP\\AppData\\Roaming\\nltk_data...\n",
      "[nltk_data]   Package wordnet is already up-to-date!\n"
     ]
    },
    {
     "data": {
      "text/plain": [
       "True"
      ]
     },
     "execution_count": 56,
     "metadata": {},
     "output_type": "execute_result"
    }
   ],
   "source": [
    "nltk.download('wordnet')"
   ]
  },
  {
   "cell_type": "code",
   "execution_count": 58,
   "metadata": {},
   "outputs": [
    {
     "name": "stderr",
     "output_type": "stream",
     "text": [
      "[nltk_data] Downloading package omw-1.4 to\n",
      "[nltk_data]     C:\\Users\\HP\\AppData\\Roaming\\nltk_data...\n",
      "[nltk_data]   Package omw-1.4 is already up-to-date!\n"
     ]
    },
    {
     "data": {
      "text/plain": [
       "True"
      ]
     },
     "execution_count": 58,
     "metadata": {},
     "output_type": "execute_result"
    }
   ],
   "source": [
    "nltk.download('omw-1.4')"
   ]
  },
  {
   "cell_type": "code",
   "execution_count": 60,
   "metadata": {},
   "outputs": [],
   "source": [
    "from nltk.stem import WordNetLemmatizer\n",
    "lemmatizer = WordNetLemmatizer()\n",
    "\n",
    "df_reddit['text'] = df_reddit['text'].apply(lambda x: ' '.join([lemmatizer.lemmatize(word) for word in x.split()]))"
   ]
  },
  {
   "cell_type": "code",
   "execution_count": 64,
   "metadata": {},
   "outputs": [
    {
     "data": {
      "text/plain": [
       "app\n",
       "Swiggy    3.5732\n",
       "Zomato    4.2312\n",
       "Name: score, dtype: float64"
      ]
     },
     "execution_count": 64,
     "metadata": {},
     "output_type": "execute_result"
    }
   ],
   "source": [
    "df_all_reviews.groupby('app')['score'].mean()"
   ]
  },
  {
   "cell_type": "markdown",
   "metadata": {},
   "source": [
    "## Sentiment Analysis\n",
    "\n",
    "To better understand user opinions beyond just star ratings, we performed **sentiment analysis** on the review content using **natural language processing (NLP)**.\n",
    "\n",
    "Each review was classified as **Positive**, **Negative**, or **Neutral** based on its textual content using a sentiment scoring technique. This helps uncover emotional tone even when users give similar star ratings but express different sentiments in their comments.\n",
    "\n",
    "### Approach:\n",
    "- The review `content` was analyzed using VADER sentiment analysis.\n",
    "- A new column `sentiment` was added to classify each review accordingly.\n",
    "\n",
    "### Insights: \n",
    "\n",
    "This analysis reveals trends not visible through ratings alone.\n",
    "\n",
    "> Sentiment analysis enhances the depth of feedback understanding.\n",
    "decisions.\r\n"
   ]
  },
  {
   "cell_type": "code",
   "execution_count": 66,
   "metadata": {
    "colab": {
     "base_uri": "https://localhost:8080/"
    },
    "id": "sfH30bL--oC5",
    "outputId": "9d9b38ee-e981-432d-8636-a03d10d7821b"
   },
   "outputs": [
    {
     "name": "stderr",
     "output_type": "stream",
     "text": [
      "[nltk_data] Downloading package vader_lexicon to\n",
      "[nltk_data]     C:\\Users\\HP\\AppData\\Roaming\\nltk_data...\n",
      "[nltk_data]   Package vader_lexicon is already up-to-date!\n"
     ]
    },
    {
     "data": {
      "text/plain": [
       "True"
      ]
     },
     "execution_count": 66,
     "metadata": {},
     "output_type": "execute_result"
    }
   ],
   "source": [
    "from nltk.sentiment.vader import SentimentIntensityAnalyzer\n",
    "nltk.download('vader_lexicon')"
   ]
  },
  {
   "cell_type": "code",
   "execution_count": 68,
   "metadata": {
    "colab": {
     "base_uri": "https://localhost:8080/"
    },
    "id": "sfH30bL--oC5",
    "outputId": "9d9b38ee-e981-432d-8636-a03d10d7821b"
   },
   "outputs": [],
   "source": [
    "sia = SentimentIntensityAnalyzer()"
   ]
  },
  {
   "cell_type": "code",
   "execution_count": 70,
   "metadata": {
    "colab": {
     "base_uri": "https://localhost:8080/"
    },
    "id": "sfH30bL--oC5",
    "outputId": "9d9b38ee-e981-432d-8636-a03d10d7821b"
   },
   "outputs": [],
   "source": [
    "# Google Play Reviews\n",
    "df_all_reviews['sentiment_score'] = df_all_reviews['content'].apply(lambda x: sia.polarity_scores(x)['compound'])\n",
    "\n",
    "# Reddit\n",
    "df_reddit['sentiment_score'] = df_reddit['text'].apply(lambda x: sia.polarity_scores(x)['compound'])"
   ]
  },
  {
   "cell_type": "code",
   "execution_count": 71,
   "metadata": {
    "colab": {
     "base_uri": "https://localhost:8080/"
    },
    "id": "sfH30bL--oC5",
    "outputId": "9d9b38ee-e981-432d-8636-a03d10d7821b"
   },
   "outputs": [],
   "source": [
    "def label_sentiment(score):\n",
    "    if score > 0.05:\n",
    "        return 'positive'\n",
    "    elif score < -0.05:\n",
    "        return 'negative'\n",
    "    else:\n",
    "        return 'neutral'\n",
    "\n",
    "df_all_reviews['sentiment'] = df_all_reviews['sentiment_score'].apply(label_sentiment)\n",
    "df_reddit['sentiment'] = df_reddit['sentiment_score'].apply(label_sentiment)"
   ]
  },
  {
   "cell_type": "code",
   "execution_count": 76,
   "metadata": {},
   "outputs": [
    {
     "data": {
      "text/plain": [
       "app     sentiment\n",
       "Swiggy  positive     95\n",
       "        negative     68\n",
       "        neutral      30\n",
       "Zomato  positive     74\n",
       "        negative     68\n",
       "        neutral      36\n",
       "Name: count, dtype: int64"
      ]
     },
     "execution_count": 76,
     "metadata": {},
     "output_type": "execute_result"
    }
   ],
   "source": [
    "df_reddit.groupby('app')['sentiment'].value_counts()"
   ]
  },
  {
   "cell_type": "code",
   "execution_count": 78,
   "metadata": {},
   "outputs": [
    {
     "data": {
      "text/html": [
       "<div>\n",
       "<style scoped>\n",
       "    .dataframe tbody tr th:only-of-type {\n",
       "        vertical-align: middle;\n",
       "    }\n",
       "\n",
       "    .dataframe tbody tr th {\n",
       "        vertical-align: top;\n",
       "    }\n",
       "\n",
       "    .dataframe thead th {\n",
       "        text-align: right;\n",
       "    }\n",
       "</style>\n",
       "<table border=\"1\" class=\"dataframe\">\n",
       "  <thead>\n",
       "    <tr style=\"text-align: right;\">\n",
       "      <th></th>\n",
       "      <th>content</th>\n",
       "      <th>score</th>\n",
       "      <th>at</th>\n",
       "      <th>app</th>\n",
       "      <th>year</th>\n",
       "      <th>month</th>\n",
       "      <th>sentiment_score</th>\n",
       "      <th>sentiment</th>\n",
       "    </tr>\n",
       "  </thead>\n",
       "  <tbody>\n",
       "    <tr>\n",
       "      <th>0</th>\n",
       "      <td>dont want</td>\n",
       "      <td>1</td>\n",
       "      <td>2025-08-06 08:21:59</td>\n",
       "      <td>Swiggy</td>\n",
       "      <td>2025</td>\n",
       "      <td>8</td>\n",
       "      <td>-0.0572</td>\n",
       "      <td>negative</td>\n",
       "    </tr>\n",
       "    <tr>\n",
       "      <th>1</th>\n",
       "      <td>delivering mentioned timeline</td>\n",
       "      <td>1</td>\n",
       "      <td>2025-08-06 08:16:15</td>\n",
       "      <td>Swiggy</td>\n",
       "      <td>2025</td>\n",
       "      <td>8</td>\n",
       "      <td>0.0000</td>\n",
       "      <td>neutral</td>\n",
       "    </tr>\n",
       "    <tr>\n",
       "      <th>2</th>\n",
       "      <td>apply bhim upi payment application blocked giv...</td>\n",
       "      <td>1</td>\n",
       "      <td>2025-08-06 08:11:08</td>\n",
       "      <td>Swiggy</td>\n",
       "      <td>2025</td>\n",
       "      <td>8</td>\n",
       "      <td>-0.2732</td>\n",
       "      <td>negative</td>\n",
       "    </tr>\n",
       "    <tr>\n",
       "      <th>3</th>\n",
       "      <td>service delivery fast</td>\n",
       "      <td>5</td>\n",
       "      <td>2025-08-06 07:50:49</td>\n",
       "      <td>Swiggy</td>\n",
       "      <td>2025</td>\n",
       "      <td>8</td>\n",
       "      <td>0.0000</td>\n",
       "      <td>neutral</td>\n",
       "    </tr>\n",
       "    <tr>\n",
       "      <th>4</th>\n",
       "      <td>hate customer support worst experience 2nd time</td>\n",
       "      <td>1</td>\n",
       "      <td>2025-08-06 07:45:44</td>\n",
       "      <td>Swiggy</td>\n",
       "      <td>2025</td>\n",
       "      <td>8</td>\n",
       "      <td>-0.7269</td>\n",
       "      <td>negative</td>\n",
       "    </tr>\n",
       "    <tr>\n",
       "      <th>...</th>\n",
       "      <td>...</td>\n",
       "      <td>...</td>\n",
       "      <td>...</td>\n",
       "      <td>...</td>\n",
       "      <td>...</td>\n",
       "      <td>...</td>\n",
       "      <td>...</td>\n",
       "      <td>...</td>\n",
       "    </tr>\n",
       "    <tr>\n",
       "      <th>24995</th>\n",
       "      <td>one best app ordering food</td>\n",
       "      <td>5</td>\n",
       "      <td>2025-07-06 19:04:15</td>\n",
       "      <td>Zomato</td>\n",
       "      <td>2025</td>\n",
       "      <td>7</td>\n",
       "      <td>0.6369</td>\n",
       "      <td>positive</td>\n",
       "    </tr>\n",
       "    <tr>\n",
       "      <th>24996</th>\n",
       "      <td>nice</td>\n",
       "      <td>4</td>\n",
       "      <td>2025-07-06 19:04:13</td>\n",
       "      <td>Zomato</td>\n",
       "      <td>2025</td>\n",
       "      <td>7</td>\n",
       "      <td>0.4215</td>\n",
       "      <td>positive</td>\n",
       "    </tr>\n",
       "    <tr>\n",
       "      <th>24997</th>\n",
       "      <td>good</td>\n",
       "      <td>4</td>\n",
       "      <td>2025-07-06 19:04:12</td>\n",
       "      <td>Zomato</td>\n",
       "      <td>2025</td>\n",
       "      <td>7</td>\n",
       "      <td>0.4404</td>\n",
       "      <td>positive</td>\n",
       "    </tr>\n",
       "    <tr>\n",
       "      <th>24998</th>\n",
       "      <td>excellent</td>\n",
       "      <td>5</td>\n",
       "      <td>2025-07-06 19:02:44</td>\n",
       "      <td>Zomato</td>\n",
       "      <td>2025</td>\n",
       "      <td>7</td>\n",
       "      <td>0.5719</td>\n",
       "      <td>positive</td>\n",
       "    </tr>\n",
       "    <tr>\n",
       "      <th>24999</th>\n",
       "      <td>favorite app online food thanks ceo</td>\n",
       "      <td>5</td>\n",
       "      <td>2025-07-06 19:02:38</td>\n",
       "      <td>Zomato</td>\n",
       "      <td>2025</td>\n",
       "      <td>7</td>\n",
       "      <td>0.7096</td>\n",
       "      <td>positive</td>\n",
       "    </tr>\n",
       "  </tbody>\n",
       "</table>\n",
       "<p>50000 rows × 8 columns</p>\n",
       "</div>"
      ],
      "text/plain": [
       "                                                 content  score  \\\n",
       "0                                              dont want      1   \n",
       "1                          delivering mentioned timeline      1   \n",
       "2      apply bhim upi payment application blocked giv...      1   \n",
       "3                                  service delivery fast      5   \n",
       "4        hate customer support worst experience 2nd time      1   \n",
       "...                                                  ...    ...   \n",
       "24995                         one best app ordering food      5   \n",
       "24996                                               nice      4   \n",
       "24997                                               good      4   \n",
       "24998                                          excellent      5   \n",
       "24999                favorite app online food thanks ceo      5   \n",
       "\n",
       "                       at     app  year  month  sentiment_score sentiment  \n",
       "0     2025-08-06 08:21:59  Swiggy  2025      8          -0.0572  negative  \n",
       "1     2025-08-06 08:16:15  Swiggy  2025      8           0.0000   neutral  \n",
       "2     2025-08-06 08:11:08  Swiggy  2025      8          -0.2732  negative  \n",
       "3     2025-08-06 07:50:49  Swiggy  2025      8           0.0000   neutral  \n",
       "4     2025-08-06 07:45:44  Swiggy  2025      8          -0.7269  negative  \n",
       "...                   ...     ...   ...    ...              ...       ...  \n",
       "24995 2025-07-06 19:04:15  Zomato  2025      7           0.6369  positive  \n",
       "24996 2025-07-06 19:04:13  Zomato  2025      7           0.4215  positive  \n",
       "24997 2025-07-06 19:04:12  Zomato  2025      7           0.4404  positive  \n",
       "24998 2025-07-06 19:02:44  Zomato  2025      7           0.5719  positive  \n",
       "24999 2025-07-06 19:02:38  Zomato  2025      7           0.7096  positive  \n",
       "\n",
       "[50000 rows x 8 columns]"
      ]
     },
     "execution_count": 78,
     "metadata": {},
     "output_type": "execute_result"
    }
   ],
   "source": [
    "df_all_reviews"
   ]
  },
  {
   "cell_type": "code",
   "execution_count": 80,
   "metadata": {},
   "outputs": [
    {
     "data": {
      "text/plain": [
       "app     sentiment\n",
       "Swiggy  positive     16066\n",
       "        negative      4858\n",
       "        neutral       4076\n",
       "Zomato  positive     19143\n",
       "        neutral       3343\n",
       "        negative      2514\n",
       "Name: count, dtype: int64"
      ]
     },
     "execution_count": 80,
     "metadata": {},
     "output_type": "execute_result"
    }
   ],
   "source": [
    "df_all_reviews.groupby('app')['sentiment'].value_counts()"
   ]
  },
  {
   "cell_type": "markdown",
   "metadata": {},
   "source": [
    "## Exploratory Data Analysis (EDA)\n",
    "\n",
    "The goal of this section is to explore and visualize data about Swiggy and Zomato to uncover patterns, trends, and key differences between the two apps. This step focuses on **descriptive insights** using charts and visual summaries."
   ]
  },
  {
   "cell_type": "code",
   "execution_count": 62,
   "metadata": {},
   "outputs": [
    {
     "data": {
      "image/png": "[encoded data removed]",
      "text/plain": [
       "<Figure size 640x480 with 1 Axes>"
      ]
     },
     "metadata": {},
     "output_type": "display_data"
    }
   ],
   "source": [
    "import seaborn as sns\n",
    "import matplotlib.pyplot as plt\n",
    "\n",
    "sns.countplot(data=df_all_reviews, x='score', hue='app')\n",
    "plt.title(\"Star Ratings by App\")\n",
    "plt.show()"
   ]
  },
  {
   "cell_type": "markdown",
   "metadata": {},
   "source": [
    "**Insight**:\n",
    "\n",
    "**Swiggy** has a relatively higher number of 1-star reviews compared to Zomato, indicating potential dissatisfaction areas. Zomato has a slightly more balanced rating distribution.\n",
    "\n",
    "**Zomato** overall has **higher ratings** than Swiggy.\n",
    "\n"
   ]
  },
  {
   "cell_type": "code",
   "execution_count": 98,
   "metadata": {
    "colab": {
     "base_uri": "https://localhost:8080/",
     "height": 472
    },
    "id": "OtyJlKnt-1JM",
    "outputId": "61402e6b-cf89-4ea8-8bd4-b039418c5be9"
   },
   "outputs": [
    {
     "data": {
      "image/png": "[encoded data removed]",
      "text/plain": [
       "<Figure size 700x500 with 1 Axes>"
      ]
     },
     "metadata": {},
     "output_type": "display_data"
    }
   ],
   "source": [
    "import seaborn as sns\n",
    "import matplotlib.pyplot as plt\n",
    "\n",
    "plt.figure(figsize=(7, 5))\n",
    "sns.countplot(data=df_all_reviews, x='sentiment', hue='app', palette='bright')\n",
    "\n",
    "plt.title(\"Sentiment Distribution by App (Google Play Reviews)\")\n",
    "plt.xlabel(\"Sentiment\")\n",
    "plt.ylabel(\"Number of Reviews\")\n",
    "plt.tight_layout()\n",
    "plt.show()\n"
   ]
  },
  {
   "cell_type": "markdown",
   "metadata": {},
   "source": [
    "**Insight**:\n",
    "\n",
    "Based on sentiment analysis of user reviews:\n",
    "\n",
    "**Zomato** shows a relatively more **positive public sentiment**, with a higher proportion of reviews classified as *positive*.\n",
    "\n",
    "**Swiggy**, on the other hand, has received a greater share of **negative reviews**, indicating user dissatisfaction in more cases.\n",
    "\n",
    "> This suggests Zomato users are generally more satisfied with their experience compared to Swiggy users, based on review text sentiment rather than just star ratings."
   ]
  },
  {
   "cell_type": "code",
   "execution_count": 201,
   "metadata": {},
   "outputs": [
    {
     "data": {
      "image/png": "[encoded data removed]",
      "text/plain": [
       "<Figure size 700x500 with 1 Axes>"
      ]
     },
     "metadata": {},
     "output_type": "display_data"
    }
   ],
   "source": [
    "plt.figure(figsize=(7, 5))\n",
    "sns.countplot(data=df_reddit, x='sentiment', hue='app', palette='bright')\n",
    "plt.title(\"Sentiment Distribution: Swiggy vs Zomato (Reddit)\")\n",
    "plt.xlabel(\"Sentiment\")\n",
    "plt.ylabel(\"Number of Posts\")\n",
    "plt.tight_layout()\n",
    "plt.show()\n"
   ]
  },
  {
   "cell_type": "markdown",
   "metadata": {},
   "source": [
    "- **Swiggy** has a higher number of **positive posts**, but also a high count of **negative reviews**.\n",
    "- **Zomato** maintains a more balanced distribution, with slightly **fewer negative posts** and **higher neutral sentiment**.\n",
    "\n",
    "> This mixed pattern suggests Swiggy is more polarizing — evoking both strong positive and negative emotions — while Zomato leans slightly more neutral overall."
   ]
  },
  {
   "cell_type": "code",
   "execution_count": 86,
   "metadata": {
    "colab": {
     "base_uri": "https://localhost:8080/",
     "height": 178
    },
    "id": "aR-nldfU_itf",
    "outputId": "141425c8-5fb6-4bd2-806c-c7dd77771aba"
   },
   "outputs": [
    {
     "data": {
      "text/plain": [
       "app\n",
       "Swiggy    0.199621\n",
       "Zomato    0.339735\n",
       "Name: sentiment_score, dtype: float64"
      ]
     },
     "execution_count": 86,
     "metadata": {},
     "output_type": "execute_result"
    }
   ],
   "source": [
    "df_all_reviews.groupby('app')['sentiment_score'].mean()"
   ]
  },
  {
   "cell_type": "code",
   "execution_count": 212,
   "metadata": {},
   "outputs": [
    {
     "name": "stderr",
     "output_type": "stream",
     "text": [
      "C:\\Users\\HP\\AppData\\Local\\Temp\\ipykernel_6300\\1644142490.py:6: FutureWarning: \n",
      "\n",
      "Passing `palette` without assigning `hue` is deprecated and will be removed in v0.14.0. Assign the `x` variable to `hue` and set `legend=False` for the same effect.\n",
      "\n",
      "  sns.barplot(x='app', y='score', data=avg_scores, palette='bright')\n"
     ]
    },
    {
     "data": {
      "image/png": "[encoded data removed]",
      "text/plain": [
       "<Figure size 600x400 with 1 Axes>"
      ]
     },
     "metadata": {},
     "output_type": "display_data"
    }
   ],
   "source": [
    "avg_scores = df_all_reviews.groupby('app')['score'].mean().reset_index()\n",
    "sns.set(style=\"whitegrid\")\n",
    "\n",
    "# Plot\n",
    "plt.figure(figsize=(6, 4))\n",
    "sns.barplot(x='app', y='score', data=avg_scores, palette='bright')\n",
    "\n",
    "plt.title(\"Average Rating on Google Play\")\n",
    "plt.ylim(0, 5)\n",
    "plt.ylabel(\"Average Rating\")\n",
    "plt.xlabel(\"App\")\n",
    "plt.tight_layout()\n",
    "plt.show()\n"
   ]
  },
  {
   "cell_type": "markdown",
   "metadata": {},
   "source": [
    "Zomato has **higher** average ratings on Google Play Store."
   ]
  },
  {
   "cell_type": "code",
   "execution_count": 210,
   "metadata": {},
   "outputs": [
    {
     "name": "stderr",
     "output_type": "stream",
     "text": [
      "C:\\Users\\HP\\AppData\\Local\\Temp\\ipykernel_6300\\2444492768.py:6: FutureWarning: \n",
      "\n",
      "Passing `palette` without assigning `hue` is deprecated and will be removed in v0.14.0. Assign the `x` variable to `hue` and set `legend=False` for the same effect.\n",
      "\n",
      "  sns.barplot(x='app', y='sentiment_score', data=avg_scores, palette='bright')\n"
     ]
    },
    {
     "data": {
      "image/png": "[encoded data removed]",
      "text/plain": [
       "<Figure size 600x400 with 1 Axes>"
      ]
     },
     "metadata": {},
     "output_type": "display_data"
    }
   ],
   "source": [
    "avg_scores = df_reddit.groupby('app')['sentiment_score'].mean().reset_index()\n",
    "sns.set(style=\"whitegrid\")\n",
    "\n",
    "# Plot\n",
    "plt.figure(figsize=(6, 4))\n",
    "sns.barplot(x='app', y='sentiment_score', data=avg_scores, palette='bright')\n",
    "\n",
    "plt.title(\"Average Sentiment Score on Reddit\")\n",
    "plt.ylim(0, 0.10)\n",
    "plt.ylabel(\"Sentiment Score\")\n",
    "plt.xlabel(\"App\")\n",
    "plt.tight_layout()\n",
    "plt.show()\n"
   ]
  },
  {
   "cell_type": "markdown",
   "metadata": {},
   "source": [
    "Swiggy has **higher** average sentiment scores based on Reddit posts and opinions."
   ]
  },
  {
   "cell_type": "code",
   "execution_count": 124,
   "metadata": {},
   "outputs": [],
   "source": [
    "monthly_sentiment = df_all_reviews.groupby('month')['sentiment_score'].mean().reset_index()"
   ]
  },
  {
   "cell_type": "code",
   "execution_count": 136,
   "metadata": {},
   "outputs": [],
   "source": [
    "df_all_reviews['day'] = df_all_reviews['at'].dt.to_period('D').astype(str)"
   ]
  },
  {
   "cell_type": "code",
   "execution_count": 156,
   "metadata": {},
   "outputs": [],
   "source": [
    "daily_sentiment = df_all_reviews.groupby(['app', 'day'])['sentiment_score'].mean().reset_index()"
   ]
  },
  {
   "cell_type": "code",
   "execution_count": 162,
   "metadata": {},
   "outputs": [
    {
     "data": {
      "image/png": "[encoded data removed]",
      "text/plain": [
       "<Figure size 1400x600 with 1 Axes>"
      ]
     },
     "metadata": {},
     "output_type": "display_data"
    }
   ],
   "source": [
    "plt.figure(figsize=(14, 6))\n",
    "sns.lineplot(data=daily_sentiment, x='day', y='sentiment_score',hue='app', marker='o')\n",
    "\n",
    "plt.title('Daily Sentiment Trend (Swiggy & Zomato)')\n",
    "plt.ylabel('Average Sentiment Score')\n",
    "plt.xlabel('Date')\n",
    "plt.xticks([], [])  \n",
    "plt.grid(True)\n",
    "plt.tight_layout()\n",
    "plt.show()"
   ]
  },
  {
   "cell_type": "markdown",
   "metadata": {},
   "source": [
    "**Zomato consistently scores higher** in average sentiment over time, maintaining a relatively stable sentiment around 0.33–0.36.\n",
    "\n",
    "\n",
    "**Swiggy** shows more volatility with daily sentiment swinging widely, typically between 0.15–0.25. This trend indicates that **Zomato users express more stable and consistently positive opinions**, whereas **Swiggy's** user sentiment is more reactive and fluctuating."
   ]
  },
  {
   "cell_type": "markdown",
   "metadata": {},
   "source": [
    "## Conclusion\n",
    "\n",
    "Based on our sentiment analysis of customer reviews:\n",
    "\n",
    "**Zomato** shows a *more positive public sentiment*, more positive reviews with users frequently appreciating the service and food quality.\n",
    "\n",
    "**Swiggy**, while popular, has garnered relatively more negative feedback.\n",
    "\n",
    "These findings suggest that while both platforms are widely used, Zomato currently enjoys better user perception, which could influence customer loyalty and preference."
   ]
  },
  {
   "cell_type": "code",
   "execution_count": 220,
   "metadata": {},
   "outputs": [],
   "source": [
    "df_all_reviews.to_csv(\"reviews_clean.csv\", index=False)\n",
    "df_reddit.to_csv(\"reddit_clean.csv\", index=False)"
   ]
  }
 ],
 "metadata": {
  "colab": {
   "collapsed_sections": [
    "JE9u7m_1-3lN"
   ],
   "provenance": []
  },
  "kernelspec": {
   "display_name": "Python 3 (ipykernel)",
   "language": "python",
   "name": "python3"
  },
  "language_info": {
   "codemirror_mode": {
    "name": "ipython",
    "version": 3
   },
   "file_extension": ".py",
   "mimetype": "text/x-python",
   "name": "python",
   "nbconvert_exporter": "python",
   "pygments_lexer": "ipython3",
   "version": "3.12.4"
  }
 },
 "nbformat": 4,
 "nbformat_minor": 4
}
